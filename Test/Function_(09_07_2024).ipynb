{
  "nbformat": 4,
  "nbformat_minor": 0,
  "metadata": {
    "colab": {
      "provenance": []
    },
    "kernelspec": {
      "name": "python3",
      "display_name": "Python 3"
    },
    "language_info": {
      "name": "python"
    }
  },
  "cells": [
    {
      "cell_type": "markdown",
      "source": [
        "create a quiz program using fucntions  10 with total correct questions and wrong"
      ],
      "metadata": {
        "id": "vs6v0yM_ONH7"
      }
    },
    {
      "cell_type": "code",
      "execution_count": 1,
      "metadata": {
        "colab": {
          "base_uri": "https://localhost:8080/"
        },
        "id": "3Fwy_AEXGwof",
        "outputId": "ddfab60f-3bcd-474e-ce2f-894977711a57"
      },
      "outputs": [
        {
          "output_type": "stream",
          "name": "stdout",
          "text": [
            "What is the capital of France?\n",
            "india\n",
            "What is 5 + 7?\n",
            "12\n",
            "What is the color of the sky on a clear day?\n",
            "blue\n",
            "How many continents are there on Earth?\n",
            "7\n",
            "What is the largest ocean on Earth?\n",
            "pacific\n",
            "What is the boiling point of water in Celsius?\n",
            "100\n",
            "Who wrote 'Romeo and Juliet'?\n",
            "shakespeare\n",
            "What is the smallest prime number?\n",
            "2\n",
            "What planet is known as the Red Planet?\n",
            "Mars\n",
            "What is the fastest land animal?\n",
            "Cheetah\n",
            "\n",
            "You answered 10 questions.\n",
            "You got 1 wrong answers.\n",
            "You got 9 correct answers.\n"
          ]
        }
      ],
      "source": [
        "def ask_question(question, correct_answer):\n",
        "    answer = input(question + \"\\n\")\n",
        "    if answer.lower() == correct_answer.lower():\n",
        "        return True\n",
        "    else:\n",
        "        return False\n",
        "\n",
        "def quiz():\n",
        "    questions = [\n",
        "        (\"What is your name?\", \"Sandesh\"),\n",
        "        (\"What is tour mobile number?\", \"100\"),\n",
        "        (\"What is your faviourie color?\", \"Yellow\"),\n",
        "        (\"What goes up but never ever comes down?\", \"Your age\"),\n",
        "        (\"What are two things you can never eat for breakfast?\", \"Lunch and Dinner\"),\n",
        "        (\"What is the boiling point of water in Celsius?\", \"100\"),\n",
        "        (\"Who wrote 'Romeo and Juliet'?\", \"Shakespeare\"),\n",
        "        (\"What is the smallest prime number?\", \"2\"),\n",
        "        (\"What planet is known as the Red Planet?\", \"Mars\"),\n",
        "        (\"Which planet is closest to the Sun?\", \"Mercury\")\n",
        "    ]\n",
        "\n",
        "    total_questions = len(questions)\n",
        "    wrong_answers = 0\n",
        "\n",
        "    for question, correct_answer in questions:\n",
        "        if not ask_question(question, correct_answer):\n",
        "            wrong_answers += 1\n",
        "\n",
        "    print(f\"\\nYou answered {total_questions} questions.\")\n",
        "    print(f\"You got {wrong_answers} wrong answers.\")\n",
        "    print(f\"You got {total_questions - wrong_answers} correct answers.\")\n",
        "\n",
        "# Start the quiz\n",
        "quiz()"
      ]
    },
    {
      "cell_type": "markdown",
      "source": [
        "create a calculator"
      ],
      "metadata": {
        "id": "xcpJ2n30Mh_R"
      }
    },
    {
      "cell_type": "code",
      "source": [
        "def calculator():\n",
        "    while True:\n",
        "        op = input(\"Enter operation (+, -, *, /) or 'q' to quit: \")\n",
        "        if op == 'q':\n",
        "            break\n",
        "        if op not in ['+', '-', '*', '/']:\n",
        "            print(\"Invalid operation!\")\n",
        "            continue\n",
        "        try:\n",
        "            x = float(input(\"Enter first number: \"))\n",
        "            y = float(input(\"Enter second number: \"))\n",
        "        except ValueError:\n",
        "            print(\"Invalid input! Please enter numbers.\")\n",
        "            continue\n",
        "        if op == '+':\n",
        "            print(f\"Result: {x + y}\")\n",
        "        elif op == '-':\n",
        "            print(f\"Result: {x - y}\")\n",
        "        elif op == '*':\n",
        "            print(f\"Result: {x * y}\")\n",
        "        elif op == '/':\n",
        "            if y == 0:\n",
        "                print(\"Error! Division by zero.\")\n",
        "            else:\n",
        "                print(f\"Result: {x / y}\")\n",
        "\n",
        "calculator()"
      ],
      "metadata": {
        "colab": {
          "base_uri": "https://localhost:8080/"
        },
        "id": "qjcXVIYIMi2J",
        "outputId": "fc8ab601-bbdc-425f-8a25-a75159209faa"
      },
      "execution_count": 7,
      "outputs": [
        {
          "name": "stdout",
          "output_type": "stream",
          "text": [
            "Enter operation (+, -, *, /) or 'q' to quit: +\n",
            "Enter first number: 10\n",
            "Enter second number: 6\n",
            "Result: 16.0\n",
            "Enter operation (+, -, *, /) or 'q' to quit: -\n",
            "Enter first number: 10\n",
            "Enter second number: 6\n",
            "Result: 4.0\n",
            "Enter operation (+, -, *, /) or 'q' to quit: *\n",
            "Enter first number: 10\n",
            "Enter second number: 6\n",
            "Result: 60.0\n",
            "Enter operation (+, -, *, /) or 'q' to quit: /\n",
            "Enter first number: 10\n",
            "Enter second number: 6\n",
            "Result: 1.6666666666666667\n",
            "Enter operation (+, -, *, /) or 'q' to quit: q\n"
          ]
        }
      ]
    },
    {
      "cell_type": "markdown",
      "source": [
        "create even or odd program"
      ],
      "metadata": {
        "id": "KIB8W3PGN4GJ"
      }
    },
    {
      "cell_type": "code",
      "source": [
        "def check_even_or_odd(number):\n",
        "    if number % 2 == 0:\n",
        "        return \"Even\"\n",
        "    else:\n",
        "        return \"Odd\"\n",
        "\n",
        "def main():\n",
        "    # Ask the user to input a number\n",
        "    number = int(input(\"Enter a number: \"))\n",
        "\n",
        "    # Call the function and get the result\n",
        "    result = check_even_or_odd(number)\n",
        "    # Print the result\n",
        "    print(f\"The number {number} is {result}.\")\n",
        "\n",
        "# Start the program\n",
        "main()"
      ],
      "metadata": {
        "colab": {
          "base_uri": "https://localhost:8080/"
        },
        "id": "ZG4xijNsN5Sw",
        "outputId": "59a2fd6c-312a-4477-8f80-f4005f4ec3e6"
      },
      "execution_count": 6,
      "outputs": [
        {
          "output_type": "stream",
          "name": "stdout",
          "text": [
            "Enter a number: 5\n",
            "The number 5 is Odd.\n"
          ]
        }
      ]
    }
  ]
}