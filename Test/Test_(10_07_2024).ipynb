{
  "nbformat": 4,
  "nbformat_minor": 0,
  "metadata": {
    "colab": {
      "provenance": []
    },
    "kernelspec": {
      "name": "python3",
      "display_name": "Python 3"
    },
    "language_info": {
      "name": "python"
    }
  },
  "cells": [
    {
      "cell_type": "markdown",
      "source": [
        "Write a Python program to detect the number of local variables declared in a function."
      ],
      "metadata": {
        "id": "NBMWPimJQd1y"
      }
    },
    {
      "cell_type": "code",
      "source": [
        "def localVariables():\n",
        "  x = 1\n",
        "  y = 2\n",
        "  z = 3\n",
        "  sum = x + y + z\n",
        "  return sum\n",
        "\n",
        "  def countLocalVariables(func):\n",
        "    return func.__code__.co_nlocals\n",
        "\n",
        "  print(countLocalVariables(localVariables))\n",
        ""
      ],
      "metadata": {
        "id": "WnFHt_q-YYpv"
      },
      "execution_count": 32,
      "outputs": []
    },
    {
      "cell_type": "markdown",
      "source": [
        "write a python program of finding prime numbers\n"
      ],
      "metadata": {
        "id": "rimyBBlyPQKK"
      }
    },
    {
      "cell_type": "code",
      "source": [
        "def find_primes(limit):\n",
        "    primes = []\n",
        "    for num in range(2, limit + 1):\n",
        "        is_prime = all(num % i != 0 for i in range(2, int(num**0.5) + 1))\n",
        "        if is_prime:\n",
        "            primes.append(num)\n",
        "    return primes\n",
        "\n",
        "# Example usage\n",
        "limit = 100\n",
        "print(f\"Prime numbers up to {limit}: {find_primes(limit)}\")"
      ],
      "metadata": {
        "colab": {
          "base_uri": "https://localhost:8080/"
        },
        "id": "__xCYGFOPRNS",
        "outputId": "1dd47726-bfbe-4f09-d7da-7838421c1a89"
      },
      "execution_count": 9,
      "outputs": [
        {
          "output_type": "stream",
          "name": "stdout",
          "text": [
            "Prime numbers up to 100: [2, 3, 5, 7, 11, 13, 17, 19, 23, 29, 31, 37, 41, 43, 47, 53, 59, 61, 67, 71, 73, 79, 83, 89, 97]\n"
          ]
        }
      ]
    },
    {
      "cell_type": "markdown",
      "source": [
        "write a python program of creating chatbot major one using functions"
      ],
      "metadata": {
        "id": "dCmBYGaDQGPU"
      }
    },
    {
      "cell_type": "code",
      "source": [
        "def greet_user():\n",
        "    print(\"Welcome to the simple chatbot!\")\n",
        "    print(\"Type 'bye' to exit the chat.\")\n",
        "\n",
        "def get_response(user_input):\n",
        "    if user_input == \"hi\" or user_input == \"hello\":\n",
        "        return \"Hello! How can I help you today?\"\n",
        "    elif user_input == \"how are you\":\n",
        "        return \"I'm just a program, so I don't have feelings, but thanks for asking!\"\n",
        "    elif user_input == \"what's your name\":\n",
        "        return \"I'm a simple chatbot created to assist you.\"\n",
        "    elif user_input == \"bye\":\n",
        "        return \"Goodbye! Have a great day!\"\n",
        "    else:\n",
        "        return \"I'm sorry, I don't understand that. Can you please rephrase?\"\n",
        "\n",
        "def chatbot():\n",
        "    greet_user()\n",
        "\n",
        "    while True:\n",
        "        user_input = input(\"You: \").lower()\n",
        "        response = get_response(user_input)\n",
        "        print(\"Chatbot:\", response)\n",
        "\n",
        "        if user_input == \"bye\":\n",
        "            break\n",
        "\n",
        "chatbot()"
      ],
      "metadata": {
        "colab": {
          "base_uri": "https://localhost:8080/"
        },
        "id": "O6QyMaBZV7a3",
        "outputId": "7e87b9fc-ccdd-4d72-fd8f-6029d2b9acbc"
      },
      "execution_count": 17,
      "outputs": [
        {
          "output_type": "stream",
          "name": "stdout",
          "text": [
            "Welcome to the simple chatbot!\n",
            "Type 'bye' to exit the chat.\n",
            "You: hello\n",
            "Chatbot: Hello! How can I help you today?\n",
            "You: bye\n",
            "Chatbot: Goodbye! Have a great day!\n"
          ]
        }
      ]
    }
  ]
}