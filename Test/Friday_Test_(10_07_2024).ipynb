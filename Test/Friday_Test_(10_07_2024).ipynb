{
  "nbformat": 4,
  "nbformat_minor": 0,
  "metadata": {
    "colab": {
      "provenance": []
    },
    "kernelspec": {
      "name": "python3",
      "display_name": "Python 3"
    },
    "language_info": {
      "name": "python"
    }
  },
  "cells": [
    {
      "cell_type": "markdown",
      "source": [
        "5 friends decided to go for a picnic and they start discussing the items which they have to take with\n",
        "them. They wanted to create a list where they can add items one by one. To help them, write a\n",
        "program in python to create an empty list. Then use for loop and append() method to add items one by\n",
        "one. ( Note: Range of loop depends on the number of items that have to be included in the list.) After\n",
        "adding all the items ask whether the user whether wants to remove any items or not and then print the\n",
        "whole list on the screen."
      ],
      "metadata": {
        "id": "hRSw7RlXgy8U"
      }
    },
    {
      "cell_type": "code",
      "source": [
        "def picnic_list():\n",
        "    items = []\n",
        "    num_items = int(input(\"How many items do you want to add to the picnic list? \"))\n",
        "\n",
        "    for i in range(num_items):\n",
        "        items.append(input(f\"Enter item {i+1}: \"))\n",
        "\n",
        "    while input(\"Do you want to remove any item? (yes/no) \").lower() == 'yes':\n",
        "        item_to_remove = input(\"Enter the item to remove: \")\n",
        "        if item_to_remove in items:\n",
        "            items.remove(item_to_remove)\n",
        "        else:\n",
        "            print(f\"{item_to_remove} is not in the list.\")\n",
        "\n",
        "    print(\"Final picnic list:\", items)\n",
        "\n",
        "picnic_list()"
      ],
      "metadata": {
        "colab": {
          "base_uri": "https://localhost:8080/"
        },
        "id": "WCgWiR4_g0XS",
        "outputId": "520b2b3b-b77a-462e-af61-35ea456404ae"
      },
      "execution_count": 5,
      "outputs": [
        {
          "output_type": "stream",
          "name": "stdout",
          "text": [
            "How many items do you want to add to the picnic list? 5\n",
            "Enter item 1: Water\n",
            "Enter item 2: Juice\n",
            "Enter item 3: Fruit\n",
            "Enter item 4: Medicine\n",
            "Enter item 5: Colddrink\n",
            "Do you want to remove any item? (yes/no) yes\n",
            "Enter the item to remove: no\n",
            "no is not in the list.\n",
            "Do you want to remove any item? (yes/no) no\n",
            "Final picnic list: ['Water', 'Juice', 'Fruit', 'Medicine', 'Colddrink']\n"
          ]
        }
      ]
    },
    {
      "cell_type": "markdown",
      "source": [
        "A teacher created a list of names of the students. Now teachers want to get the name of all those\n",
        "students whose name starts with the letter “A”. To help the teacher write a python program and create\n",
        "a list of names of students. Then print the names which start with the letter “A”. (Hint: Use for loop and\n",
        "give condition I [0] == “A” )"
      ],
      "metadata": {
        "id": "7FaI9lYckijL"
      }
    },
    {
      "cell_type": "code",
      "source": [
        "def names_start_with_A():\n",
        "    student_names = [input(f\"Enter the name of student {i+1}: \") for i in range(int(input(\"How many student names do you want to add? \")))]\n",
        "    print(\"Names of students starting with 'A':\")\n",
        "    for name in student_names:\n",
        "        if name.startswith('A'):\n",
        "            print(name)\n",
        "\n",
        "names_start_with_A()"
      ],
      "metadata": {
        "colab": {
          "base_uri": "https://localhost:8080/"
        },
        "id": "CaaFAlPakjm9",
        "outputId": "e70993dd-7a78-4318-e4a3-adc52e669ae5"
      },
      "execution_count": 9,
      "outputs": [
        {
          "output_type": "stream",
          "name": "stdout",
          "text": [
            "How many student names do you want to add? 5\n",
            "Enter the name of student 1: Aadarsh\n",
            "Enter the name of student 2: Sandesh\n",
            "Enter the name of student 3: Aditi\n",
            "Enter the name of student 4: Saurabh\n",
            "Enter the name of student 5: Tushar\n",
            "Names of students starting with 'A':\n",
            "Aadarsh\n",
            "Aditi\n"
          ]
        }
      ]
    },
    {
      "cell_type": "markdown",
      "source": [
        "In a class, the teacher decides to assign roll numbers to the students in alphabetical order of their\n",
        "names. The class consists of more than 60 students. So the class monitor decides to create a list in\n",
        "python to take the name of the students in any order and then will print the list in sorted order with roll\n",
        "numbers. ( Hint: use append() method to add the names in the list and then use sort() function on the\n",
        "list ) . After sorting the list, the Index number of the list can be used to assign the roll numbers to the\n",
        "students. ( Hint : roll no = index + 1 )"
      ],
      "metadata": {
        "id": "Xi5s4h42nYSa"
      }
    },
    {
      "cell_type": "code",
      "source": [
        "def Give_roll_numbers():\n",
        "    student_names = [input(f\"Enter the name of student {i+1}: \") for i in range(int(input(\"How many student names do you want to add? \")))]\n",
        "    student_names.sort()\n",
        "    for index, name in enumerate(student_names):\n",
        "        print(f\"Roll No. {index + 1}: {name}\")\n",
        "Give_roll_numbers()"
      ],
      "metadata": {
        "colab": {
          "base_uri": "https://localhost:8080/"
        },
        "id": "LKl1777snZkj",
        "outputId": "ee1da258-29a9-46b6-ee72-63bbed4616d0"
      },
      "execution_count": 11,
      "outputs": [
        {
          "output_type": "stream",
          "name": "stdout",
          "text": [
            "How many student names do you want to add? 7\n",
            "Enter the name of student 1: Sandesh Singh\n",
            "Enter the name of student 2: Saurabh\n",
            "Enter the name of student 3: Tushar\n",
            "Enter the name of student 4: Utkarsh \n",
            "Enter the name of student 5: Sumit\n",
            "Enter the name of student 6: Durgesh\n",
            "Enter the name of student 7: Aditya\n",
            "Roll No. 1: Aditya\n",
            "Roll No. 2: Durgesh\n",
            "Roll No. 3: Sandesh Singh\n",
            "Roll No. 4: Saurabh\n",
            "Roll No. 5: Sumit\n",
            "Roll No. 6: Tushar\n",
            "Roll No. 7: Utkarsh \n"
          ]
        }
      ]
    },
    {
      "cell_type": "markdown",
      "source": [
        "Nidhi is trying to solve a few questions in mathematics. She is actually finding out the central tendency(\n",
        "mean, median, and mode ) of some numbers. It is taking a lot of time for her to complete the\n",
        "questions. Help Nidhi in solving the following questions. Write the program for each of them.\n",
        "● .\n",
        "● She wants to find the mean of numbers. Write a program to find the mean of numbers.\n",
        "● Hint: find the sum of all the numbers in the list then divide it with the number of elements present in the\n",
        "list.\n",
        "● .\n",
        "● Shen wants to find the median as well. Write a program to find the median of numbers in the given list.\n",
        "● Hint: Sort the entire list the print the middle value of the list. If the list contains n numbers where n is\n",
        "even, then find the mean of the middle values.\n",
        "● .\n",
        "● Lastly, she wants to find the mode of numbers. To help Nidhi in this problem, write a program in python\n",
        "where users can enter n numbers as input, and then the program will print the mode of numbers.\n",
        "● Hint: Print the number having maximum count in the list.\n",
        "\n",
        "\n",
        "\n"
      ],
      "metadata": {
        "id": "e3zICZMzq3aw"
      }
    },
    {
      "cell_type": "code",
      "source": [
        "# Program to find the mean, median, and mode of a list of numbers\n",
        "\n",
        "def mean(numbers):\n",
        "    return sum(numbers) / len(numbers)\n",
        "\n",
        "def median(numbers):\n",
        "    numbers.sort()\n",
        "    n = len(numbers)\n",
        "    if n % 2 == 0:\n",
        "        mid1 = numbers[n//2]\n",
        "        mid2 = numbers[n//2 - 1]\n",
        "        return (mid1 + mid2) / 2\n",
        "    else:\n",
        "        return numbers[n//2]\n",
        "\n",
        "def mode(numbers):\n",
        "    frequency = {}\n",
        "    for num in numbers:\n",
        "        frequency[num] = frequency.get(num, 0) + 1\n",
        "    max_count = max(frequency.values())\n",
        "    mode_values = [key for key, count in frequency.items() if count == max_count]\n",
        "    if len(mode_values) == len(numbers):\n",
        "        return \"No mode\"\n",
        "    return mode_values\n",
        "\n",
        "# Input list of numbers\n",
        "numbers = list(map(int, input(\"Enter the numbers separated by spaces: \").split()))\n",
        "\n",
        "# Calculating mean, median, and mode\n",
        "mean_value = mean(numbers)\n",
        "median_value = median(numbers)\n",
        "mode_value = mode(numbers)\n",
        "\n",
        "print(f\"Mean: {mean_value}\")\n",
        "print(f\"Median: {median_value}\")\n",
        "print(f\"Mode: {mode_value}\")"
      ],
      "metadata": {
        "colab": {
          "base_uri": "https://localhost:8080/"
        },
        "id": "rtxOjA-1qeTQ",
        "outputId": "3baa796c-1d45-4e4e-f6ab-42c61ac83a1f"
      },
      "execution_count": 24,
      "outputs": [
        {
          "output_type": "stream",
          "name": "stdout",
          "text": [
            "Enter the numbers separated by spaces: 1 1 2 3 4 5 5 6 7\n",
            "Mean: 3.7777777777777777\n",
            "Median: 4\n",
            "Mode: [1, 5]\n"
          ]
        }
      ]
    },
    {
      "cell_type": "markdown",
      "source": [
        "In a school, a football competition is going to be held. The sports captain needs to create a list of the\n",
        "players with their heights. According to the rule, only those students can participate in the competition\n",
        "who have a height greater than 167cm. To make things easier write a python program. Create a list of\n",
        "tuples with the name of the player and their height in cm. Note: while taking the input from the users,\n",
        "don’t include the players whose height is less than 167cm. ( Use continue statement )\n",
        "● Sample list: [ (“Chris” , 170) , (“Aditya” , 182) , (“Chirag” , 176 ) ]"
      ],
      "metadata": {
        "id": "khj8EZc7s3b7"
      }
    },
    {
      "cell_type": "code",
      "source": [
        "sample_list = [(\"Chris\", 170), (\"Aditya\", 182), (\"Chirag\", 176), (\"John\", 165), (\"Emma\", 169)]\n",
        "\n",
        "eligible_players = []\n",
        "\n",
        "for name, height in sample_list:\n",
        "    if height <= 167:\n",
        "        continue\n",
        "    eligible_players.append((name, height))\n",
        "\n",
        "print(\"List of eligible players for the competition:\")\n",
        "print(eligible_players)"
      ],
      "metadata": {
        "colab": {
          "base_uri": "https://localhost:8080/"
        },
        "id": "9zM60ox_s7UI",
        "outputId": "414416d6-d230-4893-900a-c32bb20b894f"
      },
      "execution_count": 25,
      "outputs": [
        {
          "output_type": "stream",
          "name": "stdout",
          "text": [
            "List of eligible players for the competition:\n",
            "[('Chris', 170), ('Aditya', 182), ('Chirag', 176), ('Emma', 169)]\n"
          ]
        }
      ]
    }
  ]
}